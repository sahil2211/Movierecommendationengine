{
 "cells": [
  {
   "cell_type": "code",
   "execution_count": 1,
   "metadata": {
    "collapsed": false
   },
   "outputs": [],
   "source": [
    "import pandas as pd\n",
    "import numpy as np\n",
    "from sklearn import datasets, linear_model\n",
    "from kmodes import kmodes\n",
    "from sklearn.cluster import KMeans\n",
    "from matplotlib import pyplot\n",
    "import pylab as pl\n",
    "from sklearn.decomposition import PCA\n",
    "import random\n",
    "from scipy.spatial.distance import cdist,pdist\n",
    "moviesdf = pd.read_csv('./ml100k/u.item', header=None,sep='|')\n",
    "moviesdf1 = pd.read_csv('./ml100k/movies.csv')\n",
    "ratingsdf = pd.read_csv('./ml100k/ratings.csv')\n",
    "ratingsdf=ratingsdf.groupby('movieId').filter(lambda x: len(x) >= 10)\n",
    "ratingsdf=ratingsdf.reset_index(drop=True)"
   ]
  },
  {
   "cell_type": "code",
   "execution_count": 2,
   "metadata": {
    "collapsed": false
   },
   "outputs": [],
   "source": [
    "cols_to_be_repeated = [\"movieId\", \"title\"]\n",
    "splitdf = lambda x: x.split('|')\n",
    "s = moviesdf1.genres.str.split(\"|\").apply(pd.Series, 1).stack()\n",
    "s.index = s.index.droplevel(-1)\n",
    "del moviesdf1['genres']\n",
    "moviesdfnew=moviesdf1.join(pd.DataFrame(s))\n",
    "\n"
   ]
  },
  {
   "cell_type": "code",
   "execution_count": 3,
   "metadata": {
    "collapsed": false
   },
   "outputs": [],
   "source": [
    "moviesdfnew.columns = ['movieId','title','genres']\n"
   ]
  },
  {
   "cell_type": "code",
   "execution_count": 4,
   "metadata": {
    "collapsed": false
   },
   "outputs": [],
   "source": [
    "df=pd.get_dummies(moviesdfnew['genres'])"
   ]
  },
  {
   "cell_type": "code",
   "execution_count": 5,
   "metadata": {
    "collapsed": false
   },
   "outputs": [],
   "source": [
    "moviesdf2=df.groupby(df.index).sum()\n",
    "movies=moviesdf1.join(moviesdf2, lsuffix='_moviesdf1', rsuffix='_moviedsf2')"
   ]
  },
  {
   "cell_type": "code",
   "execution_count": 6,
   "metadata": {
    "collapsed": false
   },
   "outputs": [],
   "source": [
    "\n",
    "titles = movies\n",
    "titles1 = titles.drop(titles.columns[[0, 1]], axis=1, inplace=True)\n",
    "titles1 = titles.as_matrix()\n"
   ]
  },
  {
   "cell_type": "code",
   "execution_count": 7,
   "metadata": {
    "collapsed": false
   },
   "outputs": [],
   "source": [
    "def withinss(km): \n",
    "    centroids =(km.cluster_centroids_)\n",
    "    D_k = [cdist(titles, centroids, 'jaccard')]\n",
    "    cIdx = [np.argmin(D,axis=1) for D in D_k]\n",
    "    dist = [np.min(D,axis=1) for D in D_k]\n",
    "    avgWithinSS = [sum(d)/titles.shape[0] for d in dist]\n",
    "    return avgWithinSS\n",
    "\n",
    "\n"
   ]
  },
  {
   "cell_type": "code",
   "execution_count": 8,
   "metadata": {
    "collapsed": false
   },
   "outputs": [],
   "source": [
    "def clusterFilms(titles):\n",
    "    random.seed(101)\n",
    "    i = 1\n",
    "    while(1):\n",
    "        i = i+1\n",
    "        movieCluster1 = kmodes.KModes(n_clusters=i, init='Huang', n_init=1, verbose=1).fit(titles)\n",
    "        movieCluster2 = kmodes.KModes(n_clusters=i+1, init='Huang', n_init=1, verbose=1).fit(titles)\n",
    "        ss1 = withinss(movieCluster1)\n",
    "        ss2 = withinss(movieCluster2)\n",
    "        print ss1\n",
    "         #decision criterion\n",
    "        dss = (ss1[0]-ss2[0])/ss1[0]\n",
    "        #exit if dss < 0.2\n",
    "        if (dss < 0.2):\n",
    "            pca = PCA(n_components=i).fit(titles)\n",
    "            pca_2d = pca.transform(titles)\n",
    "            print pca_2d\n",
    "            for j in range(0, pca_2d.shape[0]):\n",
    "                if movieCluster1.labels_[j] == 0:\n",
    "                     c1 = pl.scatter(pca_2d[j,0],pca_2d[j,1],c='r',\n",
    "                     marker='+')\n",
    "                if movieCluster1.labels_[j]==1:\n",
    "                      c2 = pl.scatter(pca_2d[j,0],pca_2d[j,1],c='b',\n",
    "                     marker='*')\n",
    "                if movieCluster1.labels_[j]==2:\n",
    "                      c2 = pl.scatter(pca_2d[j,0],pca_2d[j,1],c='g',\n",
    "                     marker='o')\n",
    "            pl.show()\n",
    "            print(\"no of cluster \",i)\n",
    "            break\n",
    "    return(movieCluster1)\n",
    "        "
   ]
  },
  {
   "cell_type": "code",
   "execution_count": 9,
   "metadata": {
    "collapsed": false,
    "scrolled": true
   },
   "outputs": [],
   "source": [
    "#moviecluster=clusterFilms(titles)\n",
    "\n",
    "#ratingsdf.head()\n",
    "def getUserInfo(ratingsdf,id):\n",
    "    df = ratingsdf[ratingsdf.userId == 3][['movieId','rating']]\n",
    "    a=pd.DataFrame(df.sort('movieId'))\n",
    "    a=a.reset_index(drop=True)    \n",
    "    return a\n"
   ]
  },
  {
   "cell_type": "code",
   "execution_count": 10,
   "metadata": {
    "collapsed": false
   },
   "outputs": [],
   "source": [
    "def setcluster(moviecluster,a):\n",
    "    df1=pd.DataFrame(moviesdf1.movieId)\n",
    "    df1['clusterno'] = moviecluster.labels_\n",
    "    df2 = df1[df1.movieId.isin(a.movieId)]\n",
    "    df2=df2.reset_index(drop=True)\n",
    "    a['cluster']=df2.clusterno\n",
    "\n",
    "    return a"
   ]
  },
  {
   "cell_type": "code",
   "execution_count": 11,
   "metadata": {
    "collapsed": false
   },
   "outputs": [],
   "source": [
    "def getmeanratings(a):\n",
    "    b=pd.DataFrame(a.groupby(a.cluster)['rating'].mean())\n",
    "    \n",
    "    c = b[b.rating==max(b.rating)].index\n",
    "    return c\n"
   ]
  },
  {
   "cell_type": "code",
   "execution_count": 12,
   "metadata": {
    "collapsed": false
   },
   "outputs": [],
   "source": [
    "def getrecommendedfilms(c,moviecluster,moviesdf1,a,ratingsdf):\n",
    "    df1=pd.DataFrame(moviesdf1.movieId)\n",
    "    df1['clusterno'] = moviecluster.labels_\n",
    "    df3=df1[df1.clusterno.isin(c)][['movieId']]\n",
    "    df3 = df3.reset_index(drop=True)\n",
    "    df3 = df3[~df3.movieId.isin(a.movieId)]\n",
    "    df3 = df3.reset_index(drop=True)\n",
    "    d = ratingsdf[ratingsdf.movieId.isin(df3.movieId)]\n",
    "#b=pd.DataFrame(a.groupby(a.cluster)['rating'].mean())\n",
    "    d = d.reset_index(drop=True)\n",
    "    r=pd.DataFrame(d.groupby(d.movieId)['rating'].mean())\n",
    "    t=moviesdf1[moviesdf1.movieId.isin(r.index)]['title']\n",
    "    t.index = r.index\n",
    "    r['title']=t\n",
    "    return r.sort_values(by='rating',ascending=False)\n"
   ]
  },
  {
   "cell_type": "code",
   "execution_count": 13,
   "metadata": {
    "collapsed": false
   },
   "outputs": [],
   "source": [
    "def recommend(titles,moviesdf1,ratingsdf,userid,number):\n",
    "    moviecluster = clusterFilms(titles)\n",
    "    activeuser = getUserInfo(ratingsdf,userid)\n",
    "    activeuser = setcluster(moviecluster,activeuser)\n",
    "    cluster = getmeanratings(activeuser)\n",
    "    recommend = getrecommendedfilms(cluster,moviecluster,moviesdf1,activeuser,ratingsdf)\n",
    "    top = recommend.head(n = 50)\n",
    "    \n",
    "    return top.sample(number)\n",
    "    "
   ]
  },
  {
   "cell_type": "code",
   "execution_count": 14,
   "metadata": {
    "collapsed": false,
    "scrolled": false
   },
   "outputs": [
    {
     "name": "stdout",
     "output_type": "stream",
     "text": [
      "Init: initializing centroids\n",
      "Init: initializing clusters\n",
      "Starting iterations...\n",
      "Run 1, iteration: 1/100, moves: 539, cost: 19106.0\n",
      "Run 1, iteration: 2/100, moves: 0, cost: 19106.0\n",
      "Init: initializing centroids\n",
      "Init: initializing clusters\n",
      "Starting iterations...\n",
      "Run 1, iteration: 1/100, moves: 1332, cost: 16162.0\n",
      "Run 1, iteration: 2/100, moves: 0, cost: 16162.0\n",
      "[0.79541169819527513]\n",
      "Init: initializing centroids\n",
      "Init: initializing clusters\n",
      "Starting iterations...\n",
      "Run 1, iteration: 1/100, moves: 604, cost: 13845.0\n",
      "Run 1, iteration: 2/100, moves: 0, cost: 13845.0\n",
      "Init: initializing centroids\n",
      "Init: initializing clusters\n",
      "Starting iterations...\n",
      "Run 1, iteration: 1/100, moves: 0, cost: 13798.0\n",
      "[0.51503718199608572]\n",
      "[[ 1.09985494  0.20148563  0.88636903]\n",
      " [ 0.36644962  0.50409248  0.98101826]\n",
      " [ 0.82587562 -0.50183833 -0.21796187]\n",
      " ..., \n",
      " [ 0.13989724  0.21987121  0.07400134]\n",
      " [ 0.77189203 -0.16758386 -0.22377276]\n",
      " [ 0.13989724  0.21987121  0.07400134]]\n"
     ]
    },
    {
     "data": {
      "image/png": "[encoded data removed]",
      "text/plain": [
       "<matplotlib.figure.Figure at 0x12524610>"
      ]
     },
     "metadata": {},
     "output_type": "display_data"
    },
    {
     "name": "stdout",
     "output_type": "stream",
     "text": [
      "('no of cluster ', 3)\n"
     ]
    },
    {
     "name": "stderr",
     "output_type": "stream",
     "text": [
      "c:\\python27\\lib\\site-packages\\ipykernel\\__main__.py:6: FutureWarning: sort(columns=....) is deprecated, use sort_values(by=.....)\n"
     ]
    },
    {
     "data": {
      "text/html": [
       "<div>\n",
       "<table border=\"1\" class=\"dataframe\">\n",
       "  <thead>\n",
       "    <tr style=\"text-align: right;\">\n",
       "      <th></th>\n",
       "      <th>rating</th>\n",
       "      <th>title</th>\n",
       "    </tr>\n",
       "    <tr>\n",
       "      <th>movieId</th>\n",
       "      <th></th>\n",
       "      <th></th>\n",
       "    </tr>\n",
       "  </thead>\n",
       "  <tbody>\n",
       "    <tr>\n",
       "      <th>48516</th>\n",
       "      <td>4.202381</td>\n",
       "      <td>Departed, The (2006)</td>\n",
       "    </tr>\n",
       "    <tr>\n",
       "      <th>1209</th>\n",
       "      <td>4.218750</td>\n",
       "      <td>Once Upon a Time in the West (C'era una volta ...</td>\n",
       "    </tr>\n",
       "    <tr>\n",
       "      <th>912</th>\n",
       "      <td>4.235043</td>\n",
       "      <td>Casablanca (1942)</td>\n",
       "    </tr>\n",
       "    <tr>\n",
       "      <th>2019</th>\n",
       "      <td>4.277778</td>\n",
       "      <td>Seven Samurai (Shichinin no samurai) (1954)</td>\n",
       "    </tr>\n",
       "    <tr>\n",
       "      <th>3983</th>\n",
       "      <td>4.250000</td>\n",
       "      <td>You Can Count on Me (2000)</td>\n",
       "    </tr>\n",
       "    <tr>\n",
       "      <th>1193</th>\n",
       "      <td>4.256944</td>\n",
       "      <td>One Flew Over the Cuckoo's Nest (1975)</td>\n",
       "    </tr>\n",
       "    <tr>\n",
       "      <th>2186</th>\n",
       "      <td>4.260870</td>\n",
       "      <td>Strangers on a Train (1951)</td>\n",
       "    </tr>\n",
       "    <tr>\n",
       "      <th>3469</th>\n",
       "      <td>4.541667</td>\n",
       "      <td>Inherit the Wind (1960)</td>\n",
       "    </tr>\n",
       "    <tr>\n",
       "      <th>2467</th>\n",
       "      <td>4.239130</td>\n",
       "      <td>Name of the Rose, The (Name der Rose, Der) (1986)</td>\n",
       "    </tr>\n",
       "    <tr>\n",
       "      <th>88125</th>\n",
       "      <td>4.220588</td>\n",
       "      <td>Harry Potter and the Deathly Hallows: Part 2 (...</td>\n",
       "    </tr>\n",
       "  </tbody>\n",
       "</table>\n",
       "</div>"
      ],
      "text/plain": [
       "           rating                                              title\n",
       "movieId                                                             \n",
       "48516    4.202381                               Departed, The (2006)\n",
       "1209     4.218750  Once Upon a Time in the West (C'era una volta ...\n",
       "912      4.235043                                  Casablanca (1942)\n",
       "2019     4.277778        Seven Samurai (Shichinin no samurai) (1954)\n",
       "3983     4.250000                         You Can Count on Me (2000)\n",
       "1193     4.256944             One Flew Over the Cuckoo's Nest (1975)\n",
       "2186     4.260870                        Strangers on a Train (1951)\n",
       "3469     4.541667                            Inherit the Wind (1960)\n",
       "2467     4.239130  Name of the Rose, The (Name der Rose, Der) (1986)\n",
       "88125    4.220588  Harry Potter and the Deathly Hallows: Part 2 (..."
      ]
     },
     "execution_count": 14,
     "metadata": {},
     "output_type": "execute_result"
    }
   ],
   "source": [
    "recommend(titles,moviesdf1,ratingsdf,3,10)\n"
   ]
  },
  {
   "cell_type": "code",
   "execution_count": null,
   "metadata": {
    "collapsed": true
   },
   "outputs": [],
   "source": []
  }
 ],
 "metadata": {
  "kernelspec": {
   "display_name": "Python 2",
   "language": "python",
   "name": "python2"
  },
  "language_info": {
   "codemirror_mode": {
    "name": "ipython",
    "version": 2
   },
   "file_extension": ".py",
   "mimetype": "text/x-python",
   "name": "python",
   "nbconvert_exporter": "python",
   "pygments_lexer": "ipython2",
   "version": "2.7.12"
  }
 },
 "nbformat": 4,
 "nbformat_minor": 1
}
